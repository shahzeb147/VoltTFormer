{
 "cells": [
  {
   "cell_type": "code",
   "execution_count": 1,
   "metadata": {},
   "outputs": [],
   "source": [
    "import yfinance as yf\n",
    "import pandas as pd\n",
    "import matplotlib.pyplot as plt\n",
    "from pandas_datareader import data as pdr  \n",
    "import datetime"
   ]
  },
  {
   "cell_type": "code",
   "execution_count": 44,
   "metadata": {},
   "outputs": [],
   "source": [
    "data = pd.read_excel(\"SP500_data.xlsx\")"
   ]
  },
  {
   "cell_type": "code",
   "execution_count": 46,
   "metadata": {},
   "outputs": [
    {
     "name": "stdout",
     "output_type": "stream",
     "text": [
      "           Date  SP500_Close        VIX  DGS10        Oil         Gold\n",
      "0    2001-01-02  1283.270020  29.990000   5.11  27.200001   268.399994\n",
      "1    2001-01-03  1347.560059  26.600000   4.92  27.950001   268.000000\n",
      "2    2001-01-04  1333.339966  26.969999   5.14  28.200001   267.299988\n",
      "3    2001-01-05  1298.349976  28.670000   5.03  28.000000   268.000000\n",
      "4    2001-01-08  1295.859985  29.840000   4.93  27.350000   268.000000\n",
      "...         ...          ...        ...    ...        ...          ...\n",
      "6031 2024-12-23  5974.069824  16.780001   4.31  70.599998  2617.199951\n",
      "6032 2024-12-24  6040.040039  14.270000   4.27  70.599998  2617.199951\n",
      "6033 2024-12-26  6037.589844  14.730000   4.24  70.599998  2617.199951\n",
      "6034 2024-12-27  5970.839844  15.950000   4.30  70.599998  2617.199951\n",
      "6035 2024-12-30  5906.939941  17.400000   5.11  70.599998  2617.199951\n",
      "\n",
      "[6036 rows x 6 columns]\n"
     ]
    }
   ],
   "source": [
    "print(data)"
   ]
  },
  {
   "cell_type": "code",
   "execution_count": null,
   "metadata": {},
   "outputs": [],
   "source": []
  }
 ],
 "metadata": {
  "kernelspec": {
   "display_name": "ali",
   "language": "python",
   "name": "python3"
  },
  "language_info": {
   "codemirror_mode": {
    "name": "ipython",
    "version": 3
   },
   "file_extension": ".py",
   "mimetype": "text/x-python",
   "name": "python",
   "nbconvert_exporter": "python",
   "pygments_lexer": "ipython3",
   "version": "3.12.6"
  }
 },
 "nbformat": 4,
 "nbformat_minor": 2
}
